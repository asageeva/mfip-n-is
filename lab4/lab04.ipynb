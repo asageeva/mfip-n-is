{
 "cells": [
  {
   "attachments": {},
   "cell_type": "markdown",
   "metadata": {},
   "source": [
    "## Алгоритм Евклида"
   ]
  },
  {
   "cell_type": "code",
   "execution_count": 1,
   "metadata": {},
   "outputs": [],
   "source": [
    "def euclid(a, b): \n",
    "    while a != 0 and b != 0:\n",
    "        if a >= b:\n",
    "            a %= b\n",
    "        else:\n",
    "            b %= a\n",
    "    return a or b"
   ]
  },
  {
   "cell_type": "code",
   "execution_count": 2,
   "metadata": {},
   "outputs": [
    {
     "data": {
      "text/plain": [
       "12345"
      ]
     },
     "execution_count": 2,
     "metadata": {},
     "output_type": "execute_result"
    }
   ],
   "source": [
    "nod = euclid(12345, 24690)\n",
    "nod"
   ]
  },
  {
   "cell_type": "markdown",
   "metadata": {},
   "source": [
    "## Бинарный алгоритм Евклида"
   ]
  },
  {
   "cell_type": "code",
   "execution_count": 3,
   "metadata": {},
   "outputs": [],
   "source": [
    "def binary_euclid(a, b):\n",
    "    if a == 0:\n",
    "        return b\n",
    "    if b == 0:\n",
    "        return a\n",
    "    g = 0\n",
    "    while (a | b) & 1 == 0:\n",
    "        g += 1\n",
    "        a >>= 1\n",
    "        b >>= 1\n",
    "    while a & 1 == 0:\n",
    "        a >>= 1\n",
    "    while b != 0:\n",
    "        while b & 1 == 0:\n",
    "            b >>= 1\n",
    "        if a > b:\n",
    "            a, b = b, a\n",
    "        b -= a\n",
    "    return a << g"
   ]
  },
  {
   "cell_type": "code",
   "execution_count": 4,
   "metadata": {},
   "outputs": [
    {
     "data": {
      "text/plain": [
       "12345"
      ]
     },
     "execution_count": 4,
     "metadata": {},
     "output_type": "execute_result"
    }
   ],
   "source": [
    "nod = binary_euclid(12345, 24690)\n",
    "nod"
   ]
  },
  {
   "cell_type": "markdown",
   "metadata": {},
   "source": [
    "## Расширенный алгоритм Евклида\n",
    "ax + by = d"
   ]
  },
  {
   "cell_type": "code",
   "execution_count": 5,
   "metadata": {},
   "outputs": [],
   "source": [
    "def extended_euclid(a, b):\n",
    "    if a == 0:\n",
    "        y = 0\n",
    "        x = 1\n",
    "        return b, y, x\n",
    "    else:\n",
    "        d, x, y = extended_euclid(b%a, a)\n",
    "    return d, y - (b//a)*x, x"
   ]
  },
  {
   "cell_type": "code",
   "execution_count": 6,
   "metadata": {},
   "outputs": [
    {
     "data": {
      "text/plain": [
       "(12345, 1, 0)"
      ]
     },
     "execution_count": 6,
     "metadata": {},
     "output_type": "execute_result"
    }
   ],
   "source": [
    "nod = extended_euclid(12345, 24690)\n",
    "nod"
   ]
  },
  {
   "cell_type": "markdown",
   "metadata": {},
   "source": [
    "## Расширенный бинарный алгоритм Евклида"
   ]
  },
  {
   "cell_type": "code",
   "execution_count": 7,
   "metadata": {},
   "outputs": [],
   "source": [
    "def ext_bi_euclid(a, b):\n",
    "    if a < b:\n",
    "        a, b = b, a\n",
    "    g = 1\n",
    "    while (a%2 == 0) and (b%2 == 0):\n",
    "        a /= 2\n",
    "        b /= 2\n",
    "        g *= 2\n",
    "    u = a\n",
    "    v = b\n",
    "    A = 1\n",
    "    B = 0\n",
    "    C = 0\n",
    "    D = 1\n",
    "    while u != 0:\n",
    "        while u % 2 == 0:\n",
    "            u /= 2\n",
    "            if (A % 2 == 0) and (B % 2 == 0):\n",
    "                A /= 2\n",
    "                B /= 2\n",
    "            else:\n",
    "                A = (A+b)/2\n",
    "                B = (B-a)/2\n",
    "        while v % 2 == 0:\n",
    "            v /= 2\n",
    "            if (C % 2 == 0) and (D % 2 == 0):\n",
    "                C /= 2\n",
    "                D /= 2\n",
    "            else:\n",
    "                C = (C+b)/2\n",
    "                D = (D-a)/2\n",
    "        if u >= v:\n",
    "            u = u - v\n",
    "            A = A - C\n",
    "            B = B - D\n",
    "        else:\n",
    "            v = v - u\n",
    "            C = C - A\n",
    "            D = D - B\n",
    "    d = g*v\n",
    "    x = C\n",
    "    y = D\n",
    "    return d, x, y"
   ]
  },
  {
   "cell_type": "code",
   "execution_count": 8,
   "metadata": {},
   "outputs": [
    {
     "data": {
      "text/plain": [
       "(12345, 0, 1)"
      ]
     },
     "execution_count": 8,
     "metadata": {},
     "output_type": "execute_result"
    }
   ],
   "source": [
    "nod = ext_bi_euclid(12345, 24690)\n",
    "nod"
   ]
  },
  {
   "cell_type": "code",
   "execution_count": null,
   "metadata": {},
   "outputs": [],
   "source": []
  }
 ],
 "metadata": {
  "kernelspec": {
   "display_name": "Python 3",
   "language": "python",
   "name": "python3"
  },
  "language_info": {
   "codemirror_mode": {
    "name": "ipython",
    "version": 3
   },
   "file_extension": ".py",
   "mimetype": "text/x-python",
   "name": "python",
   "nbconvert_exporter": "python",
   "pygments_lexer": "ipython3",
   "version": "3.7.3"
  }
 },
 "nbformat": 4,
 "nbformat_minor": 2
}
