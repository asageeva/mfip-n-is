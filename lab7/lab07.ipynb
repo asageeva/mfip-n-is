{
 "cells": [
  {
   "cell_type": "markdown",
   "metadata": {},
   "source": [
    "## p-метод Полларда для задач дискретного логарифмирования"
   ]
  },
  {
   "cell_type": "code",
   "execution_count": 1,
   "metadata": {},
   "outputs": [],
   "source": [
    "def f(c, u, v):\n",
    "    if c < 53:\n",
    "        return 10*c%107, u+1, v\n",
    "    else:\n",
    "        return 64*c%107, u, v+1"
   ]
  },
  {
   "cell_type": "code",
   "execution_count": 2,
   "metadata": {},
   "outputs": [],
   "source": [
    "def extended_euclid(a, b):\n",
    "    rp = a\n",
    "    rc = b\n",
    "    xp, xc = 1, 0\n",
    "    yp, yc = 0, 1\n",
    "    rn = rp % rc\n",
    "    d = rc\n",
    "    while rn != 0:\n",
    "        rn = rp%rc\n",
    "        q = (rp - rn)/rc\n",
    "        d, x, y = rc, xc, yc\n",
    "        rp = rc\n",
    "        rc = rn\n",
    "        xc = xp - q*xc\n",
    "        xp = x\n",
    "        yc = yp - q*yc\n",
    "        yp = y\n",
    "    return d, x, y"
   ]
  },
  {
   "cell_type": "code",
   "execution_count": 3,
   "metadata": {},
   "outputs": [],
   "source": [
    "def discrlog(p, a, r, b, u, v):\n",
    "    c = a**u * b**v % p\n",
    "    d = c\n",
    "    uc, vc = u, v\n",
    "    ud, vd = u, v\n",
    "    c, uc, vc = f(c, uc, vc)\n",
    "    c %= p\n",
    "    d, ud, vd = f(*f(d, ud, vd))\n",
    "    d %= p\n",
    "    while (c-d)%p != 0:\n",
    "        c, uc, vc = f(c, uc, vc)\n",
    "        c %= p\n",
    "        d, ud, vd = f(*f(d, ud, vd))\n",
    "        d %= p \n",
    "    v = vc - vd\n",
    "    u = ud - uc\n",
    "    d, x, y = extended_euclid(v, r)\n",
    "    while d != 1:\n",
    "        v /= d\n",
    "        u /= d\n",
    "        r /= d\n",
    "        d, x, y = extended_euclid(v, r)\n",
    "    return x*u%r"
   ]
  },
  {
   "cell_type": "code",
   "execution_count": 4,
   "metadata": {},
   "outputs": [
    {
     "data": {
      "text/plain": [
       "20.0"
      ]
     },
     "execution_count": 4,
     "metadata": {},
     "output_type": "execute_result"
    }
   ],
   "source": [
    "discrlog(107, 10, 53, 64, 2, 2)"
   ]
  },
  {
   "cell_type": "code",
   "execution_count": null,
   "metadata": {},
   "outputs": [],
   "source": []
  }
 ],
 "metadata": {
  "kernelspec": {
   "display_name": "Python 3",
   "language": "python",
   "name": "python3"
  },
  "language_info": {
   "codemirror_mode": {
    "name": "ipython",
    "version": 3
   },
   "file_extension": ".py",
   "mimetype": "text/x-python",
   "name": "python",
   "nbconvert_exporter": "python",
   "pygments_lexer": "ipython3",
   "version": "3.7.3"
  }
 },
 "nbformat": 4,
 "nbformat_minor": 2
}
