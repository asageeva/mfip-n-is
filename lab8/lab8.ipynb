{
 "cells": [
  {
   "cell_type": "code",
   "execution_count": 1,
   "metadata": {},
   "outputs": [],
   "source": [
    "import math"
   ]
  },
  {
   "cell_type": "code",
   "execution_count": 2,
   "metadata": {},
   "outputs": [],
   "source": [
    "# словарь\n",
    "# строковый символ : числовой аналог\n",
    "str2num = {chr(letter_sym) : (letter_sym - ord(\"A\") + 10) for letter_sym in range(ord(\"A\"), ord(\"2\") + 1)}\n",
    "for i in \"0123456789\":\n",
    "    str2num[i] = int(i)\n",
    "\n",
    "# число : строковый аналог\n",
    "num2str = {value : key for (key, value) in str2num.items()}"
   ]
  },
  {
   "cell_type": "code",
   "execution_count": 3,
   "metadata": {},
   "outputs": [],
   "source": [
    "# перевод в 10-ную систему счисления\n",
    "# array = True, если число передается в виде массива чисел\n",
    "\n",
    "def to_10 (u_str, b, array = False):\n",
    "    u_array = u_str if array else [str2num[letter] for letter in u_str]\n",
    "    u = 0\n",
    "    for i in range(len(u_array)):\n",
    "        u += (b**i)*u_array[len(u_array) - i - 1]\n",
    "    return u"
   ]
  },
  {
   "cell_type": "code",
   "execution_count": 4,
   "metadata": {},
   "outputs": [],
   "source": [
    "# перевод в систему счисления с основанием b\n",
    "# n - минимальная разрядность возвращаемого числа\n",
    "def to_b(number, b, n = 1):\n",
    "    (q, r) = (math.floor(number / b), number % b)\n",
    "    w = num2str[r]\n",
    "    while q >= b:\n",
    "        (q, r) = (math.floor(q / b), q % b)\n",
    "        w = w + num2str[r]\n",
    "    if q != 0:\n",
    "        w = w + num2str[q]\n",
    "    while len(w) < n:\n",
    "        w = w + \"0\"\n",
    "    return w[::-1]"
   ]
  },
  {
   "cell_type": "code",
   "execution_count": 5,
   "metadata": {},
   "outputs": [],
   "source": [
    "# удаление 0 в начале числа\n",
    "def trim_zero(a):\n",
    "    while a[0] == '0' and len(a) > 1:\n",
    "        a = a[:1]\n",
    "    return a"
   ]
  },
  {
   "cell_type": "code",
   "execution_count": 6,
   "metadata": {},
   "outputs": [],
   "source": [
    "# добавления 0 в начало числа\n",
    "def fill_zero(u, n, array = False):\n",
    "    result = [0]*(n - len(u))\n",
    "    if array:\n",
    "        result.extend(u)\n",
    "        return result\n",
    "    return \"\".join([str(i) for i in result]) + u"
   ]
  },
  {
   "cell_type": "markdown",
   "metadata": {},
   "source": [
    "## Алгоритм 1.  Сложение неотрицательных чисел"
   ]
  },
  {
   "cell_type": "code",
   "execution_count": 7,
   "metadata": {},
   "outputs": [],
   "source": [
    "def addition(u_str, v_str, b):\n",
    "    u = [str2num[letter] for letter in u_str]\n",
    "    v = [str2num[letter] for letter in v_str]\n",
    "    if len(u) != len(v):\n",
    "        if len(u) < len(v):\n",
    "            u = fill_zero(u, len(v), True)\n",
    "        else:\n",
    "            v = fill_zero(v, len(u), True)\n",
    "    n = len(u)\n",
    "    k = 0\n",
    "    w = []\n",
    "    for j in range(n-1, -1, -1):\n",
    "        w.append(((u[j] + v[j] + k)%b))\n",
    "        k = math.floor((u[j] + v[j] + k)/b)\n",
    "    w.append(k)\n",
    "    w.reverse()\n",
    "    return \"\".join([num2str[i] for i in w])"
   ]
  },
  {
   "cell_type": "code",
   "execution_count": 8,
   "metadata": {},
   "outputs": [
    {
     "data": {
      "text/plain": [
       "'019134'"
      ]
     },
     "execution_count": 8,
     "metadata": {},
     "output_type": "execute_result"
    }
   ],
   "source": [
    "addition(\"12345\", \"6789\", 10)"
   ]
  },
  {
   "cell_type": "code",
   "execution_count": 9,
   "metadata": {},
   "outputs": [
    {
     "data": {
      "text/plain": [
       "'0011110'"
      ]
     },
     "execution_count": 9,
     "metadata": {},
     "output_type": "execute_result"
    }
   ],
   "source": [
    "addition(\"010101\", \"001001\", 2)"
   ]
  },
  {
   "cell_type": "markdown",
   "metadata": {},
   "source": [
    "## Алгоритм 2. Вычитание неотрицательных чисел"
   ]
  },
  {
   "cell_type": "code",
   "execution_count": 10,
   "metadata": {},
   "outputs": [],
   "source": [
    "def substraction(u_str, v_str, b):\n",
    "    u = [str2num[letter] for letter in u_str]\n",
    "    v = [str2num[letter] for letter in v_str]\n",
    "    if len(u) != len(v):\n",
    "        if len(u) < len(v):\n",
    "            u = fill_zero(u, len(v), True)\n",
    "        else:\n",
    "            v = fill_zero(v, len(u), True)\n",
    "    if u < v:\n",
    "        return \"u must be more than v\"\n",
    "    n = len(u)\n",
    "    k = 0\n",
    "    w = []\n",
    "    for j in range(n-1, -1, -1):\n",
    "        w.append(((u[j] - v[j] + k)%b))\n",
    "        k = math.floor((u[j] - v[j] + k)/b)\n",
    "    w.reverse()\n",
    "    return \"\".join([num2str[i] for i in w])"
   ]
  },
  {
   "cell_type": "code",
   "execution_count": 11,
   "metadata": {},
   "outputs": [
    {
     "data": {
      "text/plain": [
       "'05556'"
      ]
     },
     "execution_count": 11,
     "metadata": {},
     "output_type": "execute_result"
    }
   ],
   "source": [
    "substraction(\"12345\", \"6789\", 10)"
   ]
  },
  {
   "cell_type": "code",
   "execution_count": 12,
   "metadata": {},
   "outputs": [
    {
     "data": {
      "text/plain": [
       "'001100'"
      ]
     },
     "execution_count": 12,
     "metadata": {},
     "output_type": "execute_result"
    }
   ],
   "source": [
    "substraction(\"010101\", \"001001\", 2)"
   ]
  },
  {
   "cell_type": "code",
   "execution_count": 13,
   "metadata": {},
   "outputs": [
    {
     "data": {
      "text/plain": [
       "'u must be more than v'"
      ]
     },
     "execution_count": 13,
     "metadata": {},
     "output_type": "execute_result"
    }
   ],
   "source": [
    "substraction(\"345\", \"6789\", 10)"
   ]
  },
  {
   "cell_type": "markdown",
   "metadata": {},
   "source": [
    "## Алгоритм 3. Умножение неотрицательных целых чисел столбиком"
   ]
  },
  {
   "cell_type": "code",
   "execution_count": 14,
   "metadata": {},
   "outputs": [],
   "source": [
    "def column_multiply(u_str, v_str, b):\n",
    "    u = [str2num[letter] for letter in u_str]\n",
    "    v = [str2num[letter] for letter in v_str]\n",
    "    n = len(u)\n",
    "    m = len(v)\n",
    "    w = [0]*(m + n)\n",
    "    for j in range(m -1, -1, -1):\n",
    "        if v[j] != 0:\n",
    "            k = 0\n",
    "            for i in range(n - 1, -1, -1):\n",
    "                t = u[i]*v[j] + w[i+j+1] + k\n",
    "                w[j+i+1] = t%b\n",
    "                k = math.floor(t/b)\n",
    "            w[j] = k\n",
    "    return \"\".join([num2str[i] for i in w])"
   ]
  },
  {
   "cell_type": "code",
   "execution_count": 15,
   "metadata": {},
   "outputs": [
    {
     "data": {
      "text/plain": [
       "'083810205'"
      ]
     },
     "execution_count": 15,
     "metadata": {},
     "output_type": "execute_result"
    }
   ],
   "source": [
    "column_multiply(\"12345\", \"6789\", 10)"
   ]
  },
  {
   "cell_type": "code",
   "execution_count": 16,
   "metadata": {},
   "outputs": [
    {
     "data": {
      "text/plain": [
       "'000010111101'"
      ]
     },
     "execution_count": 16,
     "metadata": {},
     "output_type": "execute_result"
    }
   ],
   "source": [
    "column_multiply(\"010101\", \"001001\", 2)"
   ]
  },
  {
   "cell_type": "markdown",
   "metadata": {},
   "source": [
    "## Алгоритм 4. Быстрый столбик"
   ]
  },
  {
   "cell_type": "code",
   "execution_count": 17,
   "metadata": {},
   "outputs": [],
   "source": [
    "def quick_multiply(u_str, v_str, b):\n",
    "    u = [str2num[letter] for letter in u_str]\n",
    "    v = [str2num[letter] for letter in v_str]\n",
    "    n = len(u)\n",
    "    m = len(v)\n",
    "    w = [0]*(m + n)\n",
    "    t = 0\n",
    "    for s in range(0, m + n):\n",
    "        for i in range(0, s + 1):\n",
    "            if (0 <= n -i - 1 < n) and (0 <= m - s + i - 1 < m):\n",
    "                t = t + u[n - i - 1] * v[m - s + i - 1]\n",
    "        w[m + n - s - 1] = t%b\n",
    "        t =  math.floor(t/b)\n",
    "    return \"\".join([num2str[i] for i in w])"
   ]
  },
  {
   "cell_type": "code",
   "execution_count": 18,
   "metadata": {},
   "outputs": [
    {
     "data": {
      "text/plain": [
       "'083810205'"
      ]
     },
     "execution_count": 18,
     "metadata": {},
     "output_type": "execute_result"
    }
   ],
   "source": [
    "quick_multiply(\"12345\", \"6789\", 10)"
   ]
  },
  {
   "cell_type": "code",
   "execution_count": 19,
   "metadata": {},
   "outputs": [
    {
     "data": {
      "text/plain": [
       "'000010111101'"
      ]
     },
     "execution_count": 19,
     "metadata": {},
     "output_type": "execute_result"
    }
   ],
   "source": [
    "quick_multiply(\"010101\", \"001001\", 2)"
   ]
  },
  {
   "cell_type": "markdown",
   "metadata": {},
   "source": [
    "## Алгоритм 5. Деление многоразрядных целых чисел"
   ]
  },
  {
   "cell_type": "code",
   "execution_count": 20,
   "metadata": {},
   "outputs": [],
   "source": [
    "def division(u_str, v_str, b):\n",
    "    u = u_str\n",
    "    v = v_str\n",
    "    u_10 = to_10(u, b)\n",
    "    v_10 = to_10(v, b)\n",
    "    n = len(u) - 1\n",
    "    t = len(v) - 1\n",
    "    if v[0] == 0 or not (n >= t >= 1):\n",
    "        return \"Incorrect data\"\n",
    "    q = [0]*(n - t + 1)\n",
    "    while u_10 >= v_10 * (b ** (n-t)):\n",
    "        q[n-t] = q[n-t] + 1\n",
    "        u_10 -= v_10 * b ** (n-t)\n",
    "    u = to_b(u_10, b, n+1)\n",
    "    u = [str2num[letter] for letter in u]\n",
    "    v = [str2num[letter] for letter in v_str]\n",
    "    for i in range(n, t, -1):\n",
    "        if u[n - i] >= v[0]:\n",
    "            q[i-t-1] = b - 1\n",
    "        else:\n",
    "            q[i-t-1] = math.floor((u[n -i] * b + u[n-i+1]) / v[0])\n",
    "        while q[i-t-1] * (v[0]*b + v[1]) > u[n - i]*(b**2) + u[n-i+1]*b + u[n-i+2]:\n",
    "            q[i-t-1] = q[i-t-1] - 1\n",
    "        u_10 = to_10(u, b, True)\n",
    "        u_10 -= v_10 * q[i-t-1] * (b**(i-t-1))\n",
    "        if u_10 < 0:\n",
    "            u_10 += v_10 * (b**(i-t-1))\n",
    "            q[i-t-1] -= 1\n",
    "        u = to_b(u_10, b, n+1)\n",
    "        u = [str2num[letter] for letter in u]\n",
    "    q = \"\".join([num2str[i] for i in q])\n",
    "    r = \"\".join([num2str[i] for i in u])\n",
    "    return trim_zero(q[::-1]), trim_zero(r)"
   ]
  },
  {
   "cell_type": "code",
   "execution_count": 21,
   "metadata": {},
   "outputs": [
    {
     "data": {
      "text/plain": [
       "('15', '0')"
      ]
     },
     "execution_count": 21,
     "metadata": {},
     "output_type": "execute_result"
    }
   ],
   "source": [
    "division(\"225\", \"15\", 10)"
   ]
  },
  {
   "cell_type": "code",
   "execution_count": 22,
   "metadata": {},
   "outputs": [
    {
     "data": {
      "text/plain": [
       "'Incorrect data'"
      ]
     },
     "execution_count": 22,
     "metadata": {},
     "output_type": "execute_result"
    }
   ],
   "source": [
    "division(\"225\", \"0\", 10)"
   ]
  },
  {
   "cell_type": "code",
   "execution_count": 23,
   "metadata": {},
   "outputs": [
    {
     "data": {
      "text/plain": [
       "('1010', '0')"
      ]
     },
     "execution_count": 23,
     "metadata": {},
     "output_type": "execute_result"
    }
   ],
   "source": [
    "division(\"010101\", \"010\", 2)"
   ]
  },
  {
   "cell_type": "code",
   "execution_count": null,
   "metadata": {},
   "outputs": [],
   "source": []
  }
 ],
 "metadata": {
  "kernelspec": {
   "display_name": "Python 3",
   "language": "python",
   "name": "python3"
  },
  "language_info": {
   "codemirror_mode": {
    "name": "ipython",
    "version": 3
   },
   "file_extension": ".py",
   "mimetype": "text/x-python",
   "name": "python",
   "nbconvert_exporter": "python",
   "pygments_lexer": "ipython3",
   "version": "3.7.3"
  }
 },
 "nbformat": 4,
 "nbformat_minor": 2
}
