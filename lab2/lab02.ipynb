{
 "cells": [
  {
   "cell_type": "code",
   "execution_count": null,
   "metadata": {},
   "outputs": [],
   "source": []
  },
  {
   "cell_type": "code",
   "execution_count": 1,
   "metadata": {},
   "outputs": [
    {
     "name": "stdout",
     "output_type": "stream",
     "text": [
      "АВ_ЕБ_СВРИЕИАЛРЧМЬГ_ОЯЕ_\n"
     ]
    }
   ],
   "source": [
    "def encode(s):\n",
    "    table = [[' '] * 6 for _ in range(4)]\n",
    "    k = 0\n",
    "    for i in range(4):\n",
    "        for j in range(6):\n",
    "            table[i][j] = s[k]\n",
    "            k += 1\n",
    "            if k == len(s):\n",
    "                break\n",
    "    k = 0\n",
    "    chars = ['\\0'] * 24\n",
    "    for j in range(6):\n",
    "        for i in range(4):\n",
    "            chars[k] = table[i][j]\n",
    "            k += 1\n",
    "    return ''.join(chars).replace(' ', '_')\n",
    " \n",
    "print(encode(\"АБРАМОВ ИЛЬЯ СЕРГЕЕВИЧ\"))\n"
   ]
  },
  {
   "cell_type": "code",
   "execution_count": null,
   "metadata": {},
   "outputs": [],
   "source": []
  }
 ],
 "metadata": {
  "kernelspec": {
   "display_name": "Python 3",
   "language": "python",
   "name": "python3"
  },
  "language_info": {
   "codemirror_mode": {
    "name": "ipython",
    "version": 3
   },
   "file_extension": ".py",
   "mimetype": "text/x-python",
   "name": "python",
   "nbconvert_exporter": "python",
   "pygments_lexer": "ipython3",
   "version": "3.7.3"
  }
 },
 "nbformat": 4,
 "nbformat_minor": 2
}
