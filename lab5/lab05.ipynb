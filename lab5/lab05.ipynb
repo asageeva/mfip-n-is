{
 "cells": [
  {
   "cell_type": "markdown",
   "metadata": {},
   "source": [
    "## Тест Ферма"
   ]
  },
  {
   "cell_type": "code",
   "execution_count": 1,
   "metadata": {},
   "outputs": [],
   "source": [
    "import random"
   ]
  },
  {
   "cell_type": "code",
   "execution_count": 2,
   "metadata": {},
   "outputs": [],
   "source": [
    "def ferma(n):\n",
    "    if n < 5:\n",
    "        return \"Введите корректные  данные\"\n",
    "    a = random.randint(2, n-2)\n",
    "    r = a**(n-1)%n\n",
    "    if r == 1:\n",
    "        return \"Число n, вероятно, простое\"\n",
    "    else: return \"Число n составное\""
   ]
  },
  {
   "cell_type": "code",
   "execution_count": 3,
   "metadata": {},
   "outputs": [
    {
     "data": {
      "text/plain": [
       "'Число n составное'"
      ]
     },
     "execution_count": 3,
     "metadata": {},
     "output_type": "execute_result"
    }
   ],
   "source": [
    "t = ferma(8)\n",
    "t"
   ]
  },
  {
   "cell_type": "code",
   "execution_count": 4,
   "metadata": {},
   "outputs": [
    {
     "data": {
      "text/plain": [
       "'Число n, вероятно, простое'"
      ]
     },
     "execution_count": 4,
     "metadata": {},
     "output_type": "execute_result"
    }
   ],
   "source": [
    "t = ferma(7)\n",
    "t"
   ]
  },
  {
   "cell_type": "markdown",
   "metadata": {},
   "source": [
    "## Вычислление символа Якоби"
   ]
  },
  {
   "cell_type": "code",
   "execution_count": 5,
   "metadata": {},
   "outputs": [],
   "source": [
    "def yakobi(a, n):\n",
    "    if n < 3 or a >= n or a < 0:\n",
    "        print (\"Введите корректные  данные\")\n",
    "        return\n",
    "    g = 1\n",
    "    while True:\n",
    "        if a == 0:\n",
    "            return 0\n",
    "        if a == 1:\n",
    "            return g\n",
    "        k = 0\n",
    "        a1 = a\n",
    "        while a1 % 2 == 0:\n",
    "            k += 1\n",
    "            a1 /= 2\n",
    "        if k % 2 == 0:\n",
    "            s = 1\n",
    "        elif (n-1)%8 == 0 or (n+1)%8 == 0:\n",
    "            s = 1\n",
    "        elif (n-3)%8 == 0 or (n+3)%8 == 0:\n",
    "            s = -1\n",
    "        if a1 == 1:\n",
    "            return s*g\n",
    "        else:\n",
    "            if (n - 3)%4 == 0 and (a1 - 3)%4 == 0:\n",
    "                s = -s\n",
    "        a = n%a1\n",
    "        n = a1\n",
    "        g = g*s"
   ]
  },
  {
   "cell_type": "code",
   "execution_count": 6,
   "metadata": {},
   "outputs": [
    {
     "name": "stdout",
     "output_type": "stream",
     "text": [
      "Символ Якоби: 1\n"
     ]
    }
   ],
   "source": [
    "y = yakobi(4, 13)\n",
    "print(\"Символ Якоби:\", y)"
   ]
  },
  {
   "cell_type": "code",
   "execution_count": 7,
   "metadata": {},
   "outputs": [
    {
     "name": "stdout",
     "output_type": "stream",
     "text": [
      "Введите корректные  данные\n",
      "Символ Якоби: None\n"
     ]
    }
   ],
   "source": [
    "y = yakobi(4, 2)\n",
    "print(\"Символ Якоби:\", y)"
   ]
  },
  {
   "attachments": {},
   "cell_type": "markdown",
   "metadata": {},
   "source": [
    "## Тест Соловэя-Штрассена"
   ]
  },
  {
   "cell_type": "code",
   "execution_count": 8,
   "metadata": {},
   "outputs": [],
   "source": [
    "def solovey(n):\n",
    "    if n < 5 or n%2 == 0:\n",
    "        return \"Введите корректные  данные\"\n",
    "    a = random.randint(2, n-3) # включительно границы \n",
    "    r = (a**int((n-1)/2))%n\n",
    "    if r != 1 and r != n-1:\n",
    "        return \"Число n составное\"\n",
    "    s = yakobi(a, n)\n",
    "    if (r-s)%n != 0:\n",
    "        return \"Число n составное\"\n",
    "    else:\n",
    "        return \"Число n, вероятно, простое\""
   ]
  },
  {
   "cell_type": "code",
   "execution_count": 9,
   "metadata": {},
   "outputs": [
    {
     "data": {
      "text/plain": [
       "'Число n, вероятно, простое'"
      ]
     },
     "execution_count": 9,
     "metadata": {},
     "output_type": "execute_result"
    }
   ],
   "source": [
    "t = solovey(11)\n",
    "t"
   ]
  },
  {
   "cell_type": "code",
   "execution_count": 10,
   "metadata": {},
   "outputs": [
    {
     "data": {
      "text/plain": [
       "'Число n составное'"
      ]
     },
     "execution_count": 10,
     "metadata": {},
     "output_type": "execute_result"
    }
   ],
   "source": [
    "t = solovey(9)\n",
    "t"
   ]
  },
  {
   "cell_type": "markdown",
   "metadata": {},
   "source": [
    "## Тест Миллера-Рабина"
   ]
  },
  {
   "cell_type": "code",
   "execution_count": 11,
   "metadata": {},
   "outputs": [],
   "source": [
    "def miller(n):\n",
    "    if n < 5 or n%2 == 0:\n",
    "        return \"Введите корректные  данные\"\n",
    "    tmp = n-1\n",
    "    s = 0\n",
    "    r = tmp\n",
    "    while r % 2 == 0:\n",
    "        s += 1\n",
    "        r /= 2\n",
    "    a = random.randint(2, n-3)\n",
    "    y = (a**r)%n\n",
    "    if y != 1 and y != n-1:\n",
    "        j = 1\n",
    "        while j <= s-1 and y != n-1:\n",
    "            y = y**2%n\n",
    "            if y == 1:\n",
    "                return \"Число n составное\"\n",
    "            j+=1\n",
    "        if y != n-1:\n",
    "            return \"Число n составное\"\n",
    "    return \"Число n, вероятно, простое\""
   ]
  },
  {
   "cell_type": "code",
   "execution_count": 12,
   "metadata": {},
   "outputs": [
    {
     "data": {
      "text/plain": [
       "'Число n составное'"
      ]
     },
     "execution_count": 12,
     "metadata": {},
     "output_type": "execute_result"
    }
   ],
   "source": [
    "t = miller(9)\n",
    "t"
   ]
  },
  {
   "cell_type": "code",
   "execution_count": 13,
   "metadata": {},
   "outputs": [
    {
     "data": {
      "text/plain": [
       "'Число n, вероятно, простое'"
      ]
     },
     "execution_count": 13,
     "metadata": {},
     "output_type": "execute_result"
    }
   ],
   "source": [
    "t = miller(11)\n",
    "t"
   ]
  }
 ],
 "metadata": {
  "kernelspec": {
   "display_name": "Python 3",
   "language": "python",
   "name": "python3"
  },
  "language_info": {
   "codemirror_mode": {
    "name": "ipython",
    "version": 3
   },
   "file_extension": ".py",
   "mimetype": "text/x-python",
   "name": "python",
   "nbconvert_exporter": "python",
   "pygments_lexer": "ipython3",
   "version": "3.7.3"
  }
 },
 "nbformat": 4,
 "nbformat_minor": 2
}
